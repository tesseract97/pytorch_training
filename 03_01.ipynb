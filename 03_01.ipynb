{
  "nbformat": 4,
  "nbformat_minor": 0,
  "metadata": {
    "colab": {
      "provenance": [],
      "gpuType": "T4",
      "authorship_tag": "ABX9TyP099Xd0fSdckgtynjsBC9v",
      "include_colab_link": true
    },
    "kernelspec": {
      "name": "python3",
      "display_name": "Python 3"
    },
    "language_info": {
      "name": "python"
    }
  },
  "cells": [
    {
      "cell_type": "markdown",
      "metadata": {
        "id": "view-in-github",
        "colab_type": "text"
      },
      "source": [
        "<a href=\"https://colab.research.google.com/github/tesseract97/pytorch_training/blob/main/03_01.ipynb\" target=\"_parent\"><img src=\"https://colab.research.google.com/assets/colab-badge.svg\" alt=\"Open In Colab\"/></a>"
      ]
    },
    {
      "cell_type": "code",
      "execution_count": 2,
      "metadata": {
        "colab": {
          "base_uri": "https://localhost:8080/"
        },
        "id": "N0P4ot9W9cky",
        "outputId": "0cb62623-c35b-421d-e88f-551ea023844a"
      },
      "outputs": [
        {
          "output_type": "stream",
          "name": "stdout",
          "text": [
            "1:  tensor([1, 2, 3, 4, 5])\n",
            "2:  tensor([1, 2, 3, 4, 5])\n",
            "3:  tensor([1, 2, 3, 4, 5])\n"
          ]
        }
      ],
      "source": [
        "import torch\n",
        "import numpy as np\n",
        "\n",
        "tensor_from_list = torch.tensor([1,2,3,4,5])\n",
        "tensor_from_tuple = torch.tensor((1,2,3,4,5))\n",
        "\n",
        "print(\"1: \",tensor_from_list)\n",
        "print(\"2: \",tensor_from_tuple)\n",
        "\n",
        "tensor_from_array = torch.tensor(np.array([1,2,3,4,5]))\n",
        "\n",
        "print(\"3: \",tensor_from_array)"
      ]
    },
    {
      "cell_type": "code",
      "source": [
        "print(torch.empty(3,4))\n",
        "print(torch.ones(3,4))\n",
        "print(torch.zeros(3,4))\n",
        "\n",
        "print(torch.randint(5,10,(3,4)))\n",
        "print(torch.rand(3,4))\n",
        "tensor_c = torch.randn(3,4)\n",
        "print(tensor_c)\n",
        "#same dtype\n",
        "print(torch.rand_like(tensor_c))"
      ],
      "metadata": {
        "colab": {
          "base_uri": "https://localhost:8080/"
        },
        "id": "-CIONwh7-7BV",
        "outputId": "5d28af30-8586-443a-9cbe-5a186819c97c"
      },
      "execution_count": 10,
      "outputs": [
        {
          "output_type": "stream",
          "name": "stdout",
          "text": [
            "tensor([[-1.4554e-28,  4.4273e-41, -3.4905e+01,  3.2586e-41],\n",
            "        [-1.2755e+01,  3.2586e-41, -2.9080e+01,  3.2586e-41],\n",
            "        [ 0.0000e+00,  0.0000e+00, -2.8882e+01,  3.2586e-41]])\n",
            "tensor([[1., 1., 1., 1.],\n",
            "        [1., 1., 1., 1.],\n",
            "        [1., 1., 1., 1.]])\n",
            "tensor([[0., 0., 0., 0.],\n",
            "        [0., 0., 0., 0.],\n",
            "        [0., 0., 0., 0.]])\n",
            "tensor([[5, 9, 7, 9],\n",
            "        [5, 5, 5, 6],\n",
            "        [9, 8, 7, 6]])\n",
            "tensor([[0.3389, 0.1720, 0.6210, 0.3795],\n",
            "        [0.0148, 0.3226, 0.4084, 0.6283],\n",
            "        [0.9393, 0.6238, 0.1719, 0.8278]])\n",
            "tensor([[ 0.0481, -0.0476, -0.0140, -1.4289],\n",
            "        [-1.2781,  0.1117,  1.6209,  0.3455],\n",
            "        [ 0.5422, -0.5676, -0.2488,  0.0710]])\n",
            "tensor([[0.2344, 0.6352, 0.8147, 0.2402],\n",
            "        [0.7894, 0.3118, 0.5096, 0.3776],\n",
            "        [0.9049, 0.3185, 0.8841, 0.6474]])\n"
          ]
        }
      ]
    },
    {
      "cell_type": "code",
      "source": [
        "first_tensor = torch.tensor([1,2,3,4])\n",
        "second_tensor = torch.tensor([[1,2],[2,3],[3,4]])\n",
        "\n",
        "#device location\n",
        "print(first_tensor.device)\n",
        "#check dtype\n",
        "print(first_tensor.dtype)\n",
        "#check shape\n",
        "print(first_tensor.shape)\n",
        "#check dim\n",
        "print(first_tensor.ndim)\n",
        "print(second_tensor.ndim)"
      ],
      "metadata": {
        "colab": {
          "base_uri": "https://localhost:8080/"
        },
        "id": "nWJYnSmcAeAR",
        "outputId": "6fb594f3-9962-4e9d-82bb-42f6c80e2ed5"
      },
      "execution_count": 16,
      "outputs": [
        {
          "output_type": "stream",
          "name": "stdout",
          "text": [
            "cpu\n",
            "torch.int64\n",
            "torch.Size([4])\n",
            "1\n",
            "2\n"
          ]
        }
      ]
    },
    {
      "cell_type": "code",
      "source": [
        "tens_int = torch.tensor([1,2,3,4,5], dtype=torch.int8)\n",
        "print(tens_int.dtype)\n",
        "\n",
        "tens_float= torch.tensor([1,2,3,4,5], dtype=torch.float32)\n",
        "tens_update = tens_int.float()\n",
        "print(tens_update.dtype)\n",
        "tens_float.to(dtype=torch.int16)"
      ],
      "metadata": {
        "colab": {
          "base_uri": "https://localhost:8080/"
        },
        "id": "gTP1soHHBZqk",
        "outputId": "38e558d2-3402-4a9f-ef81-b7bb1724617f"
      },
      "execution_count": 26,
      "outputs": [
        {
          "output_type": "stream",
          "name": "stdout",
          "text": [
            "torch.int8\n",
            "torch.float32\n"
          ]
        },
        {
          "output_type": "execute_result",
          "data": {
            "text/plain": [
              "tensor([1, 2, 3, 4, 5], dtype=torch.int16)"
            ]
          },
          "metadata": {},
          "execution_count": 26
        }
      ]
    },
    {
      "cell_type": "code",
      "source": [
        "torch.manual_seed(111)\n",
        "torch.rand(3,3)\n",
        "\n",
        "torch.randint(1,20,(4,4))"
      ],
      "metadata": {
        "colab": {
          "base_uri": "https://localhost:8080/"
        },
        "id": "4rSyGEc4Cnfg",
        "outputId": "de986710-b02f-410e-95ad-fdb35ae709a2"
      },
      "execution_count": 5,
      "outputs": [
        {
          "output_type": "execute_result",
          "data": {
            "text/plain": [
              "tensor([[ 4,  7, 17, 19],\n",
              "        [ 4, 13, 19,  4],\n",
              "        [16,  6, 19,  2],\n",
              "        [ 4, 11, 10, 11]])"
            ]
          },
          "metadata": {},
          "execution_count": 5
        }
      ]
    },
    {
      "cell_type": "code",
      "source": [
        "starting_tensor = torch.zeros(2,5)\n",
        "starting_tensor\n",
        "\n",
        "torch.manual_seed(111)\n",
        "rand_tensor = torch.rand_like(starting_tensor)\n",
        "rand_tensor\n",
        "\n",
        "ones_tensor = torch.ones_like(starting_tensor)\n",
        "ones_tensor\n",
        "\n",
        "torch.full_like(starting_tensor,7)\n",
        "torch.full((2,3), 7)"
      ],
      "metadata": {
        "colab": {
          "base_uri": "https://localhost:8080/"
        },
        "id": "7fE0Jn2gD6h-",
        "outputId": "a1276fbe-296f-41fe-badd-0b7b09a3a692"
      },
      "execution_count": 13,
      "outputs": [
        {
          "output_type": "execute_result",
          "data": {
            "text/plain": [
              "tensor([[7, 7, 7],\n",
              "        [7, 7, 7]])"
            ]
          },
          "metadata": {},
          "execution_count": 13
        }
      ]
    }
  ]
}