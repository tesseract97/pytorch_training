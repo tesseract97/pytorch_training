{
  "nbformat": 4,
  "nbformat_minor": 0,
  "metadata": {
    "colab": {
      "provenance": [],
      "gpuType": "T4",
      "authorship_tag": "ABX9TyPQhwlrZWLFHGVNTsnwuJ5R",
      "include_colab_link": true
    },
    "kernelspec": {
      "name": "python3",
      "display_name": "Python 3"
    },
    "language_info": {
      "name": "python"
    },
    "accelerator": "GPU"
  },
  "cells": [
    {
      "cell_type": "markdown",
      "metadata": {
        "id": "view-in-github",
        "colab_type": "text"
      },
      "source": [
        "<a href=\"https://colab.research.google.com/github/tesseract97/pytorch_training/blob/main/02_02.ipynb\" target=\"_parent\"><img src=\"https://colab.research.google.com/assets/colab-badge.svg\" alt=\"Open In Colab\"/></a>"
      ]
    },
    {
      "cell_type": "code",
      "execution_count": 2,
      "metadata": {
        "colab": {
          "base_uri": "https://localhost:8080/"
        },
        "id": "iakokkZI7Nb4",
        "outputId": "f2458716-7576-4bb2-90ba-6870a693481c"
      },
      "outputs": [
        {
          "output_type": "stream",
          "name": "stdout",
          "text": [
            "2.3.1+cu121\n"
          ]
        }
      ],
      "source": [
        "import torch\n",
        "print(torch.__version__)"
      ]
    },
    {
      "cell_type": "code",
      "source": [
        "#CPU TENSORS\n",
        "first_tens = torch.tensor([[12,10,11,9],[13,15,14,16]])\n",
        "second_tens = torch.tensor([[1,2,3,4],[5,6,7,8]])\n",
        "\n",
        "add_tens = first_tens + second_tens\n",
        "\n",
        "print(add_tens)\n",
        "print(add_tens.size())"
      ],
      "metadata": {
        "colab": {
          "base_uri": "https://localhost:8080/"
        },
        "id": "3dV8PWax9iCD",
        "outputId": "5dedacb9-3ac4-4e3c-daad-57078744df27"
      },
      "execution_count": 8,
      "outputs": [
        {
          "output_type": "stream",
          "name": "stdout",
          "text": [
            "tensor([[13, 12, 14, 13],\n",
            "        [18, 21, 21, 24]])\n",
            "torch.Size([2, 4])\n"
          ]
        }
      ]
    },
    {
      "cell_type": "code",
      "source": [
        "#CPU TENSORS\n",
        "subtr_tens = first_tens - second_tens\n",
        "print(subtr_tens)\n",
        "print(subtr_tens.size())"
      ],
      "metadata": {
        "colab": {
          "base_uri": "https://localhost:8080/"
        },
        "id": "aJKsuyrs8i7t",
        "outputId": "a55ddd97-a6a9-45c4-8a80-f3a6224ffd7e"
      },
      "execution_count": 9,
      "outputs": [
        {
          "output_type": "stream",
          "name": "stdout",
          "text": [
            "tensor([[11,  8,  8,  5],\n",
            "        [ 8,  9,  7,  8]])\n",
            "torch.Size([2, 4])\n"
          ]
        }
      ]
    },
    {
      "cell_type": "code",
      "source": [
        "if torch.cuda.is_available(): device = \"cuda\"\n",
        "else: device = \"cpu\"\n",
        "print(device)"
      ],
      "metadata": {
        "colab": {
          "base_uri": "https://localhost:8080/"
        },
        "id": "1Cuw3a5p9CTI",
        "outputId": "e02754cd-9d41-4597-ac1b-d311a59c3b20"
      },
      "execution_count": 3,
      "outputs": [
        {
          "output_type": "stream",
          "name": "stdout",
          "text": [
            "cuda\n"
          ]
        }
      ]
    },
    {
      "cell_type": "code",
      "source": [
        "tens_a = torch.tensor([[12,10,11,9],[13,15,14,16]], device=device)\n",
        "tens_b = torch.tensor([[1,2,3,4],[5,6,7,8]], device=device)\n",
        "tens_c = tens_a * tens_b\n",
        "print(tens_c)\n",
        "#the tensor is allocated to GPU, and the device variable is indicating which GPU is being used"
      ],
      "metadata": {
        "colab": {
          "base_uri": "https://localhost:8080/"
        },
        "id": "vCWdgqTS-As1",
        "outputId": "ab44c039-6bbb-4ca2-85ea-597e1f1f2f4e"
      },
      "execution_count": 5,
      "outputs": [
        {
          "output_type": "stream",
          "name": "stdout",
          "text": [
            "tensor([[ 12,  20,  33,  36],\n",
            "        [ 65,  90,  98, 128]], device='cuda:0')\n"
          ]
        }
      ]
    }
  ]
}