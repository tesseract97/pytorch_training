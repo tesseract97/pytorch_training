{
  "nbformat": 4,
  "nbformat_minor": 0,
  "metadata": {
    "colab": {
      "provenance": [],
      "authorship_tag": "ABX9TyO3POSy7fim2D4PWeJwhuF9",
      "include_colab_link": true
    },
    "kernelspec": {
      "name": "python3",
      "display_name": "Python 3"
    },
    "language_info": {
      "name": "python"
    }
  },
  "cells": [
    {
      "cell_type": "markdown",
      "metadata": {
        "id": "view-in-github",
        "colab_type": "text"
      },
      "source": [
        "<a href=\"https://colab.research.google.com/github/tesseract97/pytorch_training/blob/main/04_01.ipynb\" target=\"_parent\"><img src=\"https://colab.research.google.com/assets/colab-badge.svg\" alt=\"Open In Colab\"/></a>"
      ]
    },
    {
      "cell_type": "code",
      "execution_count": 4,
      "metadata": {
        "colab": {
          "base_uri": "https://localhost:8080/"
        },
        "id": "9rCfmcGXTsdh",
        "outputId": "8b63c0d7-26ae-4894-83e5-3e710adecdfb"
      },
      "outputs": [
        {
          "output_type": "stream",
          "name": "stdout",
          "text": [
            "tensor(3)\n",
            "3\n"
          ]
        }
      ],
      "source": [
        "import torch\n",
        "\n",
        "tens_a = torch.tensor([1,2,3,4,5,6])\n",
        "#indexing\n",
        "print(tens_a[2])\n",
        "print(tens_a[2].item())"
      ]
    },
    {
      "cell_type": "code",
      "source": [
        "#slicing is start, end, step like normal\n",
        "tens_a[2:4]\n",
        "\n",
        "tens_b = torch.tensor([[1,2,3,4,5],[2,3,4,5,6],[3,4,5,6,7]])\n",
        "tens_b[0,1:2]\n",
        "tens_b[tens_b<11]\n",
        "\n",
        "#adds dimension\n",
        "torch.stack((tens_b, tens_b))\n",
        "\n",
        "first_tens, second_tens, third_tens = torch.unbind(tens_b)\n",
        "print(first_tens)"
      ],
      "metadata": {
        "colab": {
          "base_uri": "https://localhost:8080/"
        },
        "id": "hykhEh5BUQmI",
        "outputId": "8697431a-bdd1-45fc-fd33-f680a57e2c3f"
      },
      "execution_count": 12,
      "outputs": [
        {
          "output_type": "stream",
          "name": "stdout",
          "text": [
            "tensor([1, 2, 3, 4, 5])\n"
          ]
        }
      ]
    },
    {
      "cell_type": "code",
      "source": [
        "#pointwise operations\n",
        "#each point and return new tensor\n",
        "\n",
        "#add, mul, div, neg, true_divide\n",
        "#ceil, clamp, floor\n",
        "#logical function\n",
        "#trig\n",
        "\n",
        "a= torch.tensor([1,2,3,4,5])\n",
        "b = torch.tensor([6,7,8,9,1])\n",
        "\n",
        "print(a.div(b))"
      ],
      "metadata": {
        "colab": {
          "base_uri": "https://localhost:8080/"
        },
        "id": "6BR-dLYkjLKi",
        "outputId": "87f8c4e0-8bc1-48f0-d3a4-d714efafa3ec"
      },
      "execution_count": 15,
      "outputs": [
        {
          "output_type": "stream",
          "name": "stdout",
          "text": [
            "tensor([0.1667, 0.2857, 0.3750, 0.4444, 5.0000])\n"
          ]
        }
      ]
    },
    {
      "cell_type": "code",
      "source": [
        "#reduction operations\n",
        "#reduce dimensionality\n",
        "#mean, mode, etc\n",
        "\n",
        "#ONLY accepts floating types\n",
        "c=torch.tensor([[1.,2.,3.,4.,5.],[12.,15.,31.,23.,44.]])\n",
        "\n",
        "torch.mean(c)\n",
        "torch.median(c)\n",
        "torch.std(c)"
      ],
      "metadata": {
        "colab": {
          "base_uri": "https://localhost:8080/"
        },
        "id": "K-IUxk7VjdlJ",
        "outputId": "0d815f3a-fbf1-482a-9341-44dcea246ea8"
      },
      "execution_count": 21,
      "outputs": [
        {
          "output_type": "execute_result",
          "data": {
            "text/plain": [
              "tensor(14.4914)"
            ]
          },
          "metadata": {},
          "execution_count": 21
        }
      ]
    },
    {
      "cell_type": "code",
      "source": [
        "#comparison functions\n",
        "#compare everything inside a tensor\n",
        "#or multiple tensors\n",
        "#minimum, maximum, sort, test tensor status\n",
        "\n",
        "torch.sort(c)\n"
      ],
      "metadata": {
        "colab": {
          "base_uri": "https://localhost:8080/"
        },
        "id": "PvnvMPdCj3_W",
        "outputId": "d4dd2c16-bfd7-4e9b-b9bb-29866b4f0a30"
      },
      "execution_count": 23,
      "outputs": [
        {
          "output_type": "execute_result",
          "data": {
            "text/plain": [
              "torch.return_types.sort(\n",
              "values=tensor([[ 1.,  2.,  3.,  4.,  5.],\n",
              "        [12., 15., 23., 31., 44.]]),\n",
              "indices=tensor([[0, 1, 2, 3, 4],\n",
              "        [0, 1, 3, 2, 4]]))"
            ]
          },
          "metadata": {},
          "execution_count": 23
        }
      ]
    },
    {
      "cell_type": "code",
      "source": [
        "#lin alg\n",
        "#matrix operations\n",
        "#for DL\n",
        "\n",
        "#scalar\n",
        "#matrix/matrix\n",
        "\n",
        "#similar to np lin alg but extended\n",
        "\n",
        "first_tens =torch.tensor([1,2,3])\n",
        "second_tens = torch.tensor([4,5,6])\n",
        "\n",
        "dot_product = torch.matmul(first_tens, second_tens)\n",
        "dot_product\n",
        "\n",
        "#remember matrix mult rules\n",
        "a = torch.tensor([[1,2,3],[2,3,4]])\n",
        "b = torch.tensor([[3,4,5],[2,3,4],[2,3,4]])\n",
        "\n",
        "matrix = torch.matmul(a, b)\n",
        "matrix"
      ],
      "metadata": {
        "colab": {
          "base_uri": "https://localhost:8080/"
        },
        "id": "PCDrkQ1gkTzW",
        "outputId": "181ec1a4-de7f-43b9-ce98-5348cbff5f4e"
      },
      "execution_count": 28,
      "outputs": [
        {
          "output_type": "execute_result",
          "data": {
            "text/plain": [
              "tensor([[13, 19, 25],\n",
              "        [20, 29, 38]])"
            ]
          },
          "metadata": {},
          "execution_count": 28
        }
      ]
    },
    {
      "cell_type": "code",
      "source": [
        "first_ten = torch.randn(2,3)\n",
        "second_ten = torch.randn(3,4)\n",
        "third_ten = torch.randn(4,5)\n",
        "fourth_ten = torch.randn(5,6)\n",
        "fifth_ten = torch.randn(6,7)\n",
        "\n",
        "torch.linalg.multi_dot((first_ten, second_ten, third_ten, fourth_ten, fifth_ten))"
      ],
      "metadata": {
        "colab": {
          "base_uri": "https://localhost:8080/"
        },
        "id": "MuVLiADYmf03",
        "outputId": "fb63815f-aba4-4f7b-b682-90fb678c47f9"
      },
      "execution_count": 31,
      "outputs": [
        {
          "output_type": "execute_result",
          "data": {
            "text/plain": [
              "tensor([[-13.6641,  -1.8408,   7.2676,  -9.7606,  19.2920,   1.4892,   9.5755],\n",
              "        [-16.7412,  -3.0578,  11.3318, -12.3846,  24.1973,   3.8206,  10.9886]])"
            ]
          },
          "metadata": {},
          "execution_count": 31
        }
      ]
    },
    {
      "cell_type": "code",
      "source": [
        "#eigenvectors and eigenvalues\n",
        "\n",
        "a = torch.randn(4,4)\n",
        "\n",
        "print(a)\n",
        "eigenvalues, eigenvectors = torch.linalg.eig(a)\n",
        "\n",
        "print(eigenvalues)\n",
        "print(eigenvectors)"
      ],
      "metadata": {
        "colab": {
          "base_uri": "https://localhost:8080/"
        },
        "id": "i29gKQimpAOL",
        "outputId": "8a704dc2-511c-4e81-d1c8-c770079506eb"
      },
      "execution_count": 32,
      "outputs": [
        {
          "output_type": "stream",
          "name": "stdout",
          "text": [
            "tensor([[ 2.1855, -0.5300, -1.5343, -0.9688],\n",
            "        [ 2.1436,  1.3374,  0.7119,  1.2197],\n",
            "        [ 0.1221,  1.1858, -0.0601, -0.1931],\n",
            "        [-0.0070,  0.4997, -0.3786,  0.7681]])\n",
            "tensor([ 2.2564+1.5230j,  2.2564-1.5230j, -1.1398+0.0000j,  0.8580+0.0000j])\n",
            "tensor([[ 0.1593+0.5946j,  0.1593-0.5946j, -0.3027+0.0000j, -0.1894+0.0000j],\n",
            "        [ 0.7154+0.0000j,  0.7154-0.0000j,  0.6014+0.0000j, -0.2812+0.0000j],\n",
            "        [ 0.2727-0.1423j,  0.2727+0.1423j, -0.6787+0.0000j, -0.5491+0.0000j],\n",
            "        [ 0.0998-0.0687j,  0.0998+0.0687j, -0.2933+0.0000j,  0.7639+0.0000j]])\n"
          ]
        }
      ]
    },
    {
      "cell_type": "code",
      "source": [
        "#spectral operations\n",
        "#data transformations\n"
      ],
      "metadata": {
        "id": "XAJK8uZUkb22"
      },
      "execution_count": null,
      "outputs": []
    },
    {
      "cell_type": "code",
      "source": [
        "#automatic differentiation\n",
        "#forward propagation\n",
        "#backward propagation\n",
        "\n",
        "#after we find loss function, we calculate the derivative\n",
        "#update the weight parameters for smallest loss\n",
        "#iterative optimization\n",
        "#automatic differentiation\n",
        "#partial derivatives\n",
        "\n",
        "#numerical derivatives => computational costs, truncation errors, roundoff errors\n",
        "#symbolic derivatives => limited to defined rules, explosion of symbolic terms\n",
        "\n",
        "#SOOOO automatic differentiation\n",
        "#composition of elementary functions\n",
        "#chain rule\n",
        "\n",
        "x = torch.autograd.Variable(torch.Tensor([2]), requires_grad=True)\n",
        "y = torch.autograd.Variable(torch.Tensor([1]), requires_grad=True)\n",
        "z = torch.autograd.Variable(torch.Tensor([5]), requires_grad=True)\n",
        "\n",
        "\n",
        "a = x - y\n",
        "\n",
        "f = z * a\n",
        "\n",
        "f.backward()\n",
        "\n",
        "print(x.grad)\n",
        "print(y.grad)\n",
        "print(z.grad)"
      ],
      "metadata": {
        "colab": {
          "base_uri": "https://localhost:8080/"
        },
        "id": "LFdmd15SpYZo",
        "outputId": "d245d643-e1db-4015-a428-44fbad749ee7"
      },
      "execution_count": 35,
      "outputs": [
        {
          "output_type": "stream",
          "name": "stdout",
          "text": [
            "tensor([5.])\n",
            "tensor([-5.])\n",
            "tensor([1.])\n",
            "tensor([[10, 10, 10, 10, 10],\n",
            "        [10, 10, 10, 10, 10],\n",
            "        [10, 10, 10, 10, 10],\n",
            "        [10, 10, 10, 10, 10],\n",
            "        [10, 10, 10, 10, 10],\n",
            "        [10, 10, 10, 10, 10],\n",
            "        [10, 10, 10, 10, 10],\n",
            "        [10, 10, 10, 10, 10]]) /  tensor([ 0,  1,  2,  3,  4,  5,  6,  7,  8,  9, 10, 11, 12, 13, 14, 15])\n"
          ]
        }
      ]
    }
  ]
}